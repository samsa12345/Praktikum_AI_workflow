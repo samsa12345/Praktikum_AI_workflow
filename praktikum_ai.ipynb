{
  "nbformat": 4,
  "nbformat_minor": 0,
  "metadata": {
    "colab": {
      "provenance": []
    },
    "kernelspec": {
      "name": "python3",
      "display_name": "Python 3"
    },
    "language_info": {
      "name": "python"
    }
  },
  "cells": [
    {
      "cell_type": "markdown",
      "source": [
        "Data penjualan"
      ],
      "metadata": {
        "id": "icz9Ouo9g7A7"
      }
    },
    {
      "cell_type": "code",
      "execution_count": 8,
      "metadata": {
        "colab": {
          "base_uri": "https://localhost:8080/"
        },
        "id": "CVWcQOsog3Kv",
        "outputId": "cd99e5f5-3753-4332-d529-cbbec07a4e9f"
      },
      "outputs": [
        {
          "output_type": "stream",
          "name": "stdout",
          "text": [
            "      Tanggal    Produk  Jumlah Terjual  Stok  Harga Satuan\n",
            "0  2025-03-01     Royco              20    50          1000\n",
            "1  2025-03-02  Kangkung               4    15          1500\n",
            "2  2025-03-03     Bayam               6    10          1500\n",
            "3  2025-03-04     Cabai               9    25         10000\n",
            "4  2025-03-05     Jeruk              12    38         15000\n"
          ]
        }
      ],
      "source": [
        "import pandas as pd\n",
        "data = {\n",
        "    \"Tanggal\": [\"2025-03-01\", \"2025-03-02\", \"2025-03-03\", \"2025-03-04\", \"2025-03-05\", \"2025-03-06\", \"2025-03-07\", \"2025-03-08\", \"2025-03-09\", \"2025-03-10\"],\n",
        "    \"Produk\": [\"Royco\", \"Kangkung\", \"Bayam\", \" Cabai\", \"Jeruk\", \"Masako\", \"Bawang Putih\", \"Bawang Merah\", \"Strawberry\", \"Jambu\"],\n",
        "    \"Jumlah Terjual\": [20, 4, 6, 9, 12, 5, 8, 15, 3, 10],\n",
        "    \"Stok\": [50, 15, 10, 25, 38, 27, 38, 28, 29, 36],\n",
        "    \"Harga Satuan\": [1000, 1500, 1500, 10000, 15000, 1000, 10000, 20000, 21000, 14000]\n",
        "}\n",
        "\n",
        "# Simpan didalam DataFrame\n",
        "df = pd.DataFrame(data)\n",
        "\n",
        "# Simpan sebagai file CSV\n",
        "df.to_csv(\"data_penjualan_latihan.csv\", index=False)\n",
        "\n",
        "# Membaca file CSV\n",
        "df =pd.read_csv(\"data_penjualan.csv\")\n",
        "\n",
        "# Menampilkan 5 data pertama\n",
        "print(df.head())\n"
      ]
    },
    {
      "cell_type": "code",
      "source": [
        "# Cek apa ada data yang kosong\n",
        "print(df.isnull().sum())\n",
        "\n",
        "# Konversi kolom \"tanggal\" ke format datetime\n",
        "df[\"Tanggal\"]=pd.to_datetime(df[\"Tanggal\"])\n",
        "\n",
        "# Tambahkan Kolom \"Total Penjualan\"\n",
        "df[\"Total Penjualan\"]=df[\"Jumlah Terjual\"] *df[\"Harga Satuan\"]\n",
        "\n",
        "# Tambahkan kolom \"Keuntungan\" (asumsi modal 10.000/produk)\n",
        "df[\"Keuntungan\"]=df[\"Total Penjualan\"] - (df[\"Jumlah Terjual\"]*10000)\n",
        "\n",
        "# Menampilkan hasil trasformasi\n",
        "print(df.head())"
      ],
      "metadata": {
        "colab": {
          "base_uri": "https://localhost:8080/"
        },
        "id": "sLxHh7Swjr15",
        "outputId": "17eff5d8-356c-4187-f6b2-ca10bb22b518"
      },
      "execution_count": 9,
      "outputs": [
        {
          "output_type": "stream",
          "name": "stdout",
          "text": [
            "Tanggal           0\n",
            "Produk            0\n",
            "Jumlah Terjual    0\n",
            "Stok              0\n",
            "Harga Satuan      0\n",
            "dtype: int64\n",
            "     Tanggal    Produk  Jumlah Terjual  Stok  Harga Satuan  Total Penjualan  \\\n",
            "0 2025-03-01     Royco              20    50          1000            20000   \n",
            "1 2025-03-02  Kangkung               4    15          1500             6000   \n",
            "2 2025-03-03     Bayam               6    10          1500             9000   \n",
            "3 2025-03-04     Cabai               9    25         10000            90000   \n",
            "4 2025-03-05     Jeruk              12    38         15000           180000   \n",
            "\n",
            "   Keuntungan  \n",
            "0     -180000  \n",
            "1      -34000  \n",
            "2      -51000  \n",
            "3           0  \n",
            "4       60000  \n"
          ]
        }
      ]
    },
    {
      "cell_type": "code",
      "source": [
        "!pip install scikit-learn"
      ],
      "metadata": {
        "colab": {
          "base_uri": "https://localhost:8080/"
        },
        "id": "D0R6XmYFkjsK",
        "outputId": "c02cd597-0839-48d7-f967-f4aefac75757"
      },
      "execution_count": 3,
      "outputs": [
        {
          "output_type": "stream",
          "name": "stdout",
          "text": [
            "Requirement already satisfied: scikit-learn in /usr/local/lib/python3.11/dist-packages (1.6.1)\n",
            "Requirement already satisfied: numpy>=1.19.5 in /usr/local/lib/python3.11/dist-packages (from scikit-learn) (1.26.4)\n",
            "Requirement already satisfied: scipy>=1.6.0 in /usr/local/lib/python3.11/dist-packages (from scikit-learn) (1.13.1)\n",
            "Requirement already satisfied: joblib>=1.2.0 in /usr/local/lib/python3.11/dist-packages (from scikit-learn) (1.4.2)\n",
            "Requirement already satisfied: threadpoolctl>=3.1.0 in /usr/local/lib/python3.11/dist-packages (from scikit-learn) (3.5.0)\n"
          ]
        }
      ]
    },
    {
      "cell_type": "code",
      "source": [
        "from sklearn.model_selection import train_test_split\n",
        "from sklearn.tree import DecisionTreeClassifier\n",
        "from sklearn.metrics import accuracy_score\n",
        "\n",
        "# Pilih fitur (x) dan target (y)\n",
        "x = df[[\"Jumlah Terjual\", \"Stok\"]]\n",
        "y = (df[\"Stok\"] < 5).astype(int) # 1 jika stok kurang dari 5, 0 jika cukup\n",
        "\n",
        "# Split data menjadi train dan test\n",
        "x_train, x_test, y_train, y_test = train_test_split(x, y, test_size=0.2, random_state=42)\n",
        "\n",
        "# Buat model Decision Tree\n",
        "model = DecisionTreeClassifier()\n",
        "model.fit(x_train, y_train)\n",
        "\n",
        "# Evaluasi model\n",
        "y_pred = model.predict(x_test)\n",
        "print(\"Akurasi Model: \", accuracy_score(y_test, y_pred))"
      ],
      "metadata": {
        "colab": {
          "base_uri": "https://localhost:8080/"
        },
        "id": "6OT97w-WkoHs",
        "outputId": "e13c24db-eb6f-4572-b741-352607d0bbf3"
      },
      "execution_count": 4,
      "outputs": [
        {
          "output_type": "stream",
          "name": "stdout",
          "text": [
            "Akurasi Model:  1.0\n"
          ]
        }
      ]
    },
    {
      "cell_type": "code",
      "source": [
        "# Contoh produk baru (jumlah terjual 8, stok tersisa 3)\n",
        "produk_baru = [[8,3]]\n",
        "prediksi = model.predict(produk_baru)\n",
        "\n",
        "if prediksi[0] == 1:\n",
        "  print(\"produk perlu di-restock!!!!!!!\")\n",
        "else:\n",
        "  print(\"stock masih cukup!\")"
      ],
      "metadata": {
        "colab": {
          "base_uri": "https://localhost:8080/"
        },
        "id": "e5lifxRNk7mS",
        "outputId": "cf1d25d9-3928-4d2d-cdec-1e0612bf7186"
      },
      "execution_count": 5,
      "outputs": [
        {
          "output_type": "stream",
          "name": "stdout",
          "text": [
            "stock masih cukup!\n"
          ]
        },
        {
          "output_type": "stream",
          "name": "stderr",
          "text": [
            "/usr/local/lib/python3.11/dist-packages/sklearn/utils/validation.py:2739: UserWarning: X does not have valid feature names, but DecisionTreeClassifier was fitted with feature names\n",
            "  warnings.warn(\n"
          ]
        }
      ]
    },
    {
      "cell_type": "code",
      "source": [
        "import matplotlib.pyplot as plt\n",
        "\n",
        "plt.scatter (df[\"Jumlah Terjual\"], df[\"Stok\"], c=df[\"Keuntungan\"], cmap=\"coolwarm\")\n",
        "plt.xlabel(\"Jumlah Terjual\")\n",
        "plt.ylabel(\"Stok\")\n",
        "plt.title(\"Analisis Penjualan dan Stok\")\n",
        "plt.colorbar (label=\"Keuntungan\")\n",
        "plt.show()"
      ],
      "metadata": {
        "colab": {
          "base_uri": "https://localhost:8080/",
          "height": 472
        },
        "id": "w90scRjGln-z",
        "outputId": "6ca03e1f-62f5-4076-abdc-8559c3560875"
      },
      "execution_count": 6,
      "outputs": [
        {
          "output_type": "display_data",
          "data": {
            "text/plain": [
              "<Figure size 640x480 with 2 Axes>"
            ],
            "image/png": "[encoded data removed]"
          },
          "metadata": {}
        }
      ]
    }
  ]
}